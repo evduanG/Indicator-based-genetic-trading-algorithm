{
 "cells": [
  {
   "cell_type": "code",
   "execution_count": 3,
   "metadata": {},
   "outputs": [
    {
     "name": "stderr",
     "output_type": "stream",
     "text": [
      "c:\\Users\\eviatar\\anaconda3\\envs\\algoTride\\lib\\site-packages\\backtesting\\test\\__init__.py:8: FutureWarning: The argument 'infer_datetime_format' is deprecated and will be removed in a future version. A strict version of it is now the default, see https://pandas.pydata.org/pdeps/0004-consistent-to-datetime-parsing.html. You can safely remove this argument.\n",
      "  return pd.read_csv(join(dirname(__file__), filename),\n",
      "c:\\Users\\eviatar\\anaconda3\\envs\\algoTride\\lib\\site-packages\\backtesting\\test\\__init__.py:8: FutureWarning: The argument 'infer_datetime_format' is deprecated and will be removed in a future version. A strict version of it is now the default, see https://pandas.pydata.org/pdeps/0004-consistent-to-datetime-parsing.html. You can safely remove this argument.\n",
      "  return pd.read_csv(join(dirname(__file__), filename),\n"
     ]
    },
    {
     "name": "stdout",
     "output_type": "stream",
     "text": [
      " SAR(high, low[, acceleration=?, maximum=?])\n",
      "\n",
      "    Parabolic SAR (Overlap Studies)\n",
      "\n",
      "    Inputs:\n",
      "        prices: ['high', 'low']\n",
      "    Parameters:\n",
      "        acceleration: 0.02\n",
      "        maximum: 0.2\n",
      "    Outputs:\n",
      "        real\n",
      "    \n"
     ]
    }
   ],
   "source": [
    "import talib\n",
    "from backtesting.test import GOOG\n",
    "from backtesting import Backtest , Strategy\n",
    "from backtesting.lib import crossover\n",
    "import matplotlib.pyplot as plt\n",
    "import pandas as pd\n",
    "print(talib.SAR.__doc__)"
   ]
  },
  {
   "cell_type": "code",
   "execution_count": 16,
   "metadata": {},
   "outputs": [
    {
     "name": "stdout",
     "output_type": "stream",
     "text": [
      "Start                     2004-08-19 00:00:00\n",
      "End                       2013-03-01 00:00:00\n",
      "Duration                   3116 days 00:00:00\n",
      "Exposure Time [%]                   58.333333\n",
      "Equity Final [$]                     105336.4\n",
      "Equity Peak [$]                     105798.05\n",
      "Return [%]                            953.364\n",
      "Buy & Hold Return [%]              703.458242\n",
      "Return (Ann.) [%]                   31.815751\n",
      "Volatility (Ann.) [%]               30.251148\n",
      "Sharpe Ratio                          1.05172\n",
      "Sortino Ratio                        2.298886\n",
      "Calmar Ratio                         1.157775\n",
      "Max. Drawdown [%]                  -27.480078\n",
      "Avg. Drawdown [%]                   -3.554853\n",
      "Max. Drawdown Duration      406 days 00:00:00\n",
      "Avg. Drawdown Duration       31 days 00:00:00\n",
      "# Trades                                   87\n",
      "Win Rate [%]                        59.770115\n",
      "Best Trade [%]                       42.06167\n",
      "Worst Trade [%]                    -13.402923\n",
      "Avg. Trade [%]                       2.748332\n",
      "Max. Trade Duration          50 days 00:00:00\n",
      "Avg. Trade Duration          20 days 00:00:00\n",
      "Profit Factor                        3.068757\n",
      "Expectancy [%]                       3.070697\n",
      "SQN                                  3.066033\n",
      "_strategy                         SarStrategy\n",
      "_equity_curve                            E...\n",
      "_trades                       Size  EntryB...\n",
      "dtype: object\n"
     ]
    }
   ],
   "source": [
    "class SarStrategy(Strategy):\n",
    "    sar_acceleration = 0.02\n",
    "    sar_maximum = 0.2\n",
    "    \n",
    "    def init(self):\n",
    "        self.sar = self.I(talib.SAR, self.data.High, self.data.Low, acceleration=self.sar_acceleration,\n",
    "                          maximum=self.sar_maximum)\n",
    "\n",
    "    def next(self):\n",
    "        if self.data.Close[-1] > self.sar[-1] and self.data.Close[-2] <= self.sar[-2]:\n",
    "            if not self.position:\n",
    "                self.buy()\n",
    "        elif self.data.Close[-1] < self.sar[-1] and self.data.Close[-2] >= self.sar[-2]:\n",
    "            if self.position:\n",
    "                self.position.close()\n",
    "\n",
    "bt = Backtest(GOOG, SarStrategy, cash=10_000)\n",
    "stats = bt.run()\n",
    "# bt.plot()\n",
    "print(stats)\n",
    "# str = ' @: '.join([a for a in stats.keys()])\n",
    "# print (str)"
   ]
  },
  {
   "cell_type": "code",
   "execution_count": 1,
   "metadata": {},
   "outputs": [
    {
     "ename": "NameError",
     "evalue": "name 'Backtest' is not defined",
     "output_type": "error",
     "traceback": [
      "\u001b[1;31m---------------------------------------------------------------------------\u001b[0m",
      "\u001b[1;31mNameError\u001b[0m                                 Traceback (most recent call last)",
      "Cell \u001b[1;32mIn[1], line 7\u001b[0m\n\u001b[0;32m      3\u001b[0m         \u001b[39mreturn\u001b[39;00m \u001b[39m-\u001b[39m\u001b[39m1\u001b[39m\n\u001b[0;32m      5\u001b[0m     \u001b[39mreturn\u001b[39;00m  series[\u001b[39m'\u001b[39m\u001b[39mEquity Final [$]\u001b[39m\u001b[39m'\u001b[39m] \u001b[39m*\u001b[39m \u001b[39m0.2\u001b[39m \u001b[39m+\u001b[39m series[\u001b[39m'\u001b[39m\u001b[39mProfit Factor\u001b[39m\u001b[39m'\u001b[39m] \u001b[39m*\u001b[39m  series[\u001b[39m'\u001b[39m\u001b[39mWin Rate [\u001b[39m\u001b[39m%\u001b[39m\u001b[39m]\u001b[39m\u001b[39m'\u001b[39m] \n\u001b[1;32m----> 7\u001b[0m bt \u001b[39m=\u001b[39m Backtest(GOOG, SarStrategy, cash\u001b[39m=\u001b[39m\u001b[39m10_000\u001b[39m)\n\u001b[0;32m      8\u001b[0m stats \u001b[39m=\u001b[39m bt\u001b[39m.\u001b[39moptimize(\n\u001b[0;32m      9\u001b[0m     sar_acceleration \u001b[39m=\u001b[39m \u001b[39mrange\u001b[39m(\u001b[39m0.1\u001b[39m, \u001b[39m0.3\u001b[39m, \u001b[39m0.03\u001b[39m),\n\u001b[0;32m     10\u001b[0m     sar_maximum \u001b[39m=\u001b[39m \u001b[39mrange\u001b[39m(\u001b[39m0.1\u001b[39m, \u001b[39m0.3\u001b[39m, \u001b[39m0.03\u001b[39m),\n\u001b[0;32m     11\u001b[0m     maximize\u001b[39m=\u001b[39m optim_func,\n\u001b[0;32m     12\u001b[0m     max_tries\u001b[39m=\u001b[39m\u001b[39m100\u001b[39m)\n\u001b[0;32m     13\u001b[0m bt\u001b[39m.\u001b[39mplot() \n",
      "\u001b[1;31mNameError\u001b[0m: name 'Backtest' is not defined"
     ]
    }
   ],
   "source": [
    "def optim_func(series):\n",
    "    if series['# Trades'] < 15:\n",
    "        return -1\n",
    "    \n",
    "    return  series['Equity Final [$]'] * 0.2 + series['Profit Factor'] *  series['Win Rate [%]'] \n",
    "\n",
    "bt = Backtest(GOOG, SarStrategy, cash=10_000)\n",
    "# stats = bt.optimize(\n",
    "#     sar_acceleration = range(0.1, 0.3, 0.03),\n",
    "#     sar_maximum = range(0.1, 0.3, 0.03),\n",
    "#     maximize= optim_func,\n",
    "#     max_tries=100)\n",
    "bt.plot() \n",
    "\n",
    "print(stats)"
   ]
  },
  {
   "cell_type": "markdown",
   "metadata": {},
   "source": [
    "\n",
    "Duration\n",
    "Exposure Time [%]\n",
    "Equity Final [$]\n",
    "Equity Peak [$]\n",
    "Return [%]\n",
    "Buy & Hold Return [%]\n",
    "Return (Ann.) [%]\n",
    "Volatility (Ann.) [%] \n",
    "Sharpe Ratio\n",
    "Sortino Ratio\n",
    "Calmar Ratio\n",
    "Max. Drawdown [%]\n",
    "Avg. Drawdown [%]\n",
    "Max. Drawdown Duration\n",
    "Avg. Drawdown Duration\n",
    "# Trades \n",
    "Win Rate [%] \n",
    "Best Trade [%]\n",
    "Worst Trade [%] \n",
    "Avg. Trade [%]\n",
    "Max. Trade Duration \n",
    "Avg. Trade Duration \n",
    "Profit Factor\n",
    "Expectancy [%] \n",
    "SQN\n",
    "_strategy\n",
    "_equity_curve\n",
    "_trades"
   ]
  }
 ],
 "metadata": {
  "kernelspec": {
   "display_name": "algoTride",
   "language": "python",
   "name": "python3"
  },
  "language_info": {
   "codemirror_mode": {
    "name": "ipython",
    "version": 3
   },
   "file_extension": ".py",
   "mimetype": "text/x-python",
   "name": "python",
   "nbconvert_exporter": "python",
   "pygments_lexer": "ipython3",
   "version": "3.9.17"
  },
  "orig_nbformat": 4
 },
 "nbformat": 4,
 "nbformat_minor": 2
}
